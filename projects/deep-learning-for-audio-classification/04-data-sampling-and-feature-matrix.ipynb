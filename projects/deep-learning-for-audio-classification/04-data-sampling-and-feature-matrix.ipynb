{
 "cells": [
  {
   "cell_type": "code",
   "execution_count": 1,
   "metadata": {},
   "outputs": [
    {
     "name": "stderr",
     "output_type": "stream",
     "text": [
      "Using TensorFlow backend.\n"
     ]
    }
   ],
   "source": [
    "import os.path as p\n",
    "import warnings\n",
    "warnings.filterwarnings(\"ignore\")\n",
    "\n",
    "import librosa\n",
    "import matplotlib\n",
    "import matplotlib.pyplot as plt\n",
    "import numpy as np\n",
    "import pandas as pd\n",
    "from keras.utils import to_categorical\n",
    "from python_speech_features import mfcc\n",
    "from tqdm import tqdm\n",
    "\n",
    "%matplotlib inline\n",
    "matplotlib.style.use('ggplot')"
   ]
  },
  {
   "cell_type": "code",
   "execution_count": 2,
   "metadata": {},
   "outputs": [
    {
     "name": "stdout",
     "output_type": "stream",
     "text": [
      "01-data-analysis.ipynb               \u001b[1m\u001b[36m__pycache__\u001b[m\u001b[m\r\n",
      "02-spectograms-and-features.ipynb    \u001b[1m\u001b[36mclean\u001b[m\u001b[m\r\n",
      "03-noise-detection-and-removal.ipynb downsample_remove_noise.py\r\n",
      "04-data-sampling.ipynb               instruments.csv\r\n",
      "README.md                            utils.py\r\n"
     ]
    }
   ],
   "source": [
    "! ls"
   ]
  },
  {
   "cell_type": "code",
   "execution_count": 3,
   "metadata": {},
   "outputs": [],
   "source": [
    "# All recordings with the noise removed are stored in the local directory 'clean'\n",
    "\n",
    "audio_data = pd.read_csv('instruments.csv')\n",
    "DATA_DIR = 'clean'"
   ]
  },
  {
   "cell_type": "code",
   "execution_count": 4,
   "metadata": {},
   "outputs": [],
   "source": [
    "def get_number_frames(filename):\n",
    "    signal, sample_rate = librosa.load(p.join(DATA_DIR, filename), sr=None)\n",
    "    return signal.shape[0]\n",
    "\n",
    "audio_data['num_frames'] = audio_data.fname.apply(get_number_frames)\n",
    "audio_data['length_sec'] = audio_data.num_frames / 16000"
   ]
  },
  {
   "cell_type": "code",
   "execution_count": 5,
   "metadata": {},
   "outputs": [
    {
     "data": {
      "text/html": [
       "<div>\n",
       "<style scoped>\n",
       "    .dataframe tbody tr th:only-of-type {\n",
       "        vertical-align: middle;\n",
       "    }\n",
       "\n",
       "    .dataframe tbody tr th {\n",
       "        vertical-align: top;\n",
       "    }\n",
       "\n",
       "    .dataframe thead th {\n",
       "        text-align: right;\n",
       "    }\n",
       "</style>\n",
       "<table border=\"1\" class=\"dataframe\">\n",
       "  <thead>\n",
       "    <tr style=\"text-align: right;\">\n",
       "      <th></th>\n",
       "      <th>fname</th>\n",
       "      <th>label</th>\n",
       "      <th>num_frames</th>\n",
       "      <th>length_sec</th>\n",
       "    </tr>\n",
       "  </thead>\n",
       "  <tbody>\n",
       "    <tr>\n",
       "      <th>0</th>\n",
       "      <td>5388d14d.wav</td>\n",
       "      <td>Saxophone</td>\n",
       "      <td>66240</td>\n",
       "      <td>4.140000</td>\n",
       "    </tr>\n",
       "    <tr>\n",
       "      <th>1</th>\n",
       "      <td>c685f05f.wav</td>\n",
       "      <td>Saxophone</td>\n",
       "      <td>24640</td>\n",
       "      <td>1.540000</td>\n",
       "    </tr>\n",
       "    <tr>\n",
       "      <th>2</th>\n",
       "      <td>36d20ab5.wav</td>\n",
       "      <td>Saxophone</td>\n",
       "      <td>68947</td>\n",
       "      <td>4.309188</td>\n",
       "    </tr>\n",
       "    <tr>\n",
       "      <th>3</th>\n",
       "      <td>d6665734.wav</td>\n",
       "      <td>Saxophone</td>\n",
       "      <td>159476</td>\n",
       "      <td>9.967250</td>\n",
       "    </tr>\n",
       "    <tr>\n",
       "      <th>4</th>\n",
       "      <td>7352e28f.wav</td>\n",
       "      <td>Saxophone</td>\n",
       "      <td>99555</td>\n",
       "      <td>6.222188</td>\n",
       "    </tr>\n",
       "  </tbody>\n",
       "</table>\n",
       "</div>"
      ],
      "text/plain": [
       "          fname      label  num_frames  length_sec\n",
       "0  5388d14d.wav  Saxophone       66240    4.140000\n",
       "1  c685f05f.wav  Saxophone       24640    1.540000\n",
       "2  36d20ab5.wav  Saxophone       68947    4.309188\n",
       "3  d6665734.wav  Saxophone      159476    9.967250\n",
       "4  7352e28f.wav  Saxophone       99555    6.222188"
      ]
     },
     "execution_count": 5,
     "metadata": {},
     "output_type": "execute_result"
    }
   ],
   "source": [
    "audio_data.head()"
   ]
  },
  {
   "cell_type": "markdown",
   "metadata": {},
   "source": [
    "# Sampling"
   ]
  },
  {
   "cell_type": "code",
   "execution_count": 6,
   "metadata": {},
   "outputs": [],
   "source": [
    "label_avg_length = audio_data.groupby(audio_data.label).length_sec.mean()"
   ]
  },
  {
   "cell_type": "code",
   "execution_count": 7,
   "metadata": {},
   "outputs": [
    {
     "data": {
      "text/plain": [
       "<matplotlib.axes._subplots.AxesSubplot at 0x1429ecef0>"
      ]
     },
     "execution_count": 7,
     "metadata": {},
     "output_type": "execute_result"
    },
    {
     "data": {
      "image/png": "[encoded data removed]",
      "text/plain": [
       "<Figure size 1440x360 with 1 Axes>"
      ]
     },
     "metadata": {
      "needs_background": "light"
     },
     "output_type": "display_data"
    }
   ],
   "source": [
    "label_avg_length.plot.bar(figsize=(20, 5),\n",
    "                          title=\"Average recording length in sec, per instrument\")"
   ]
  },
  {
   "cell_type": "code",
   "execution_count": 8,
   "metadata": {},
   "outputs": [
    {
     "data": {
      "text/plain": [
       "label\n",
       "Acoustic_guitar     0.112138\n",
       "Bass_drum           0.022832\n",
       "Cello               0.105020\n",
       "Clarinet            0.150180\n",
       "Double_bass         0.064431\n",
       "Flute               0.171291\n",
       "Hi-hat              0.034291\n",
       "Saxophone           0.181171\n",
       "Snare_drum          0.060866\n",
       "Violin_or_fiddle    0.097781\n",
       "Name: length_sec, dtype: float64"
      ]
     },
     "execution_count": 8,
     "metadata": {},
     "output_type": "execute_result"
    }
   ],
   "source": [
    "label_distribution = label_avg_length / label_avg_length.sum()\n",
    "label_distribution"
   ]
  },
  {
   "cell_type": "code",
   "execution_count": 9,
   "metadata": {},
   "outputs": [
    {
     "name": "stdout",
     "output_type": "stream",
     "text": [
      "Available classes: ['Saxophone', 'Violin_or_fiddle', 'Hi-hat', 'Snare_drum', 'Acoustic_guitar', 'Double_bass', 'Cello', 'Bass_drum', 'Flute', 'Clarinet']\n"
     ]
    }
   ],
   "source": [
    "LABELS = list(audio_data.label.unique())\n",
    "print(f\"Available classes: {LABELS}\")\n",
    "\n",
    "label_idx = {label: i for i, label in enumerate(LABELS)}"
   ]
  },
  {
   "cell_type": "markdown",
   "metadata": {},
   "source": [
    "> The probability to draw bass drum recording is 2.28%."
   ]
  },
  {
   "cell_type": "markdown",
   "metadata": {},
   "source": [
    "# Buld a random sample generator"
   ]
  },
  {
   "cell_type": "markdown",
   "metadata": {},
   "source": [
    "**Sample size** \n",
    "\n",
    "**Normalization**\n",
    "\n",
    "**Target label transformation**"
   ]
  },
  {
   "cell_type": "code",
   "execution_count": 10,
   "metadata": {},
   "outputs": [
    {
     "name": "stdout",
     "output_type": "stream",
     "text": [
      "There are 1092 seconds of audio recordings. The number of available data samples is 21840.\n"
     ]
    }
   ],
   "source": [
    "total_length_audio = int(audio_data.length_sec.sum())\n",
    "n_samples = int(2 * (total_length_audio / 0.1))\n",
    "\n",
    "print(f\"There are {total_length_audio} seconds of audio recordings. The number of available data samples is {n_samples}.\")"
   ]
  },
  {
   "cell_type": "code",
   "execution_count": 11,
   "metadata": {},
   "outputs": [],
   "source": [
    "class Config(object):\n",
    "    def __init__(self, mode='conv', nfilt=26, nfeat=13, \n",
    "                 nfft=512, rate=16000):\n",
    "        self.mode = mode\n",
    "        self.nfilt = nfilt\n",
    "        self.nfeat = nfeat\n",
    "        self.nfft = nfft\n",
    "        self.rate = rate\n",
    "        self.step = int(rate / 10.)\n",
    "        \n",
    "config = Config(mode='conv')"
   ]
  },
  {
   "cell_type": "markdown",
   "metadata": {},
   "source": [
    "### The duration of a sample audio is set to 1/10 of a second. With sample rate of 16kHz this means 1600 frames. But what is the ratio of audio recordings with insufficient length?"
   ]
  },
  {
   "cell_type": "code",
   "execution_count": 12,
   "metadata": {},
   "outputs": [
    {
     "data": {
      "text/html": [
       "<div>\n",
       "<style scoped>\n",
       "    .dataframe tbody tr th:only-of-type {\n",
       "        vertical-align: middle;\n",
       "    }\n",
       "\n",
       "    .dataframe tbody tr th {\n",
       "        vertical-align: top;\n",
       "    }\n",
       "\n",
       "    .dataframe thead th {\n",
       "        text-align: right;\n",
       "    }\n",
       "</style>\n",
       "<table border=\"1\" class=\"dataframe\">\n",
       "  <thead>\n",
       "    <tr style=\"text-align: right;\">\n",
       "      <th></th>\n",
       "      <th>fname</th>\n",
       "      <th>label</th>\n",
       "      <th>num_frames</th>\n",
       "      <th>length_sec</th>\n",
       "    </tr>\n",
       "  </thead>\n",
       "  <tbody>\n",
       "    <tr>\n",
       "      <th>118</th>\n",
       "      <td>4c4d4797.wav</td>\n",
       "      <td>Snare_drum</td>\n",
       "      <td>1516</td>\n",
       "      <td>0.09475</td>\n",
       "    </tr>\n",
       "  </tbody>\n",
       "</table>\n",
       "</div>"
      ],
      "text/plain": [
       "            fname       label  num_frames  length_sec\n",
       "118  4c4d4797.wav  Snare_drum        1516     0.09475"
      ]
     },
     "execution_count": 12,
     "metadata": {},
     "output_type": "execute_result"
    }
   ],
   "source": [
    "audio_data[audio_data.num_frames < 1600]"
   ]
  },
  {
   "cell_type": "code",
   "execution_count": 13,
   "metadata": {},
   "outputs": [],
   "source": [
    "def normalize(matrix):\n",
    "    normalized_matrix = (matrix - matrix.min()) / (matrix.max() - matrix.min())\n",
    "    return normalized_matrix\n",
    "\n",
    "def build_feature_target_matrix(config, label_dict):\n",
    "    X = []\n",
    "    y = []\n",
    "    \n",
    "    for _ in tqdm(range(n_samples)):\n",
    "        # Choose a random instrument using the probability based on the audio length distribution\n",
    "        random_instrument = np.random.choice(label_distribution.index, p=label_distribution)\n",
    "        \n",
    "        # Select a random file with equal probability to draw each of the 30 recordings\n",
    "        random_file = np.random.choice(audio_data[audio_data.label == random_instrument].fname)\n",
    "        signal, sample_rate = librosa.load(p.join(DATA_DIR, random_file), sr=None)\n",
    "\n",
    "        # Select a starting frame, excluding the last n-steps frames in order to have full audio sample\n",
    "        if signal.shape[0] > config.step: # exclude too short recordings\n",
    "            last_possible_frame = signal.shape[0] - config.step\n",
    "            random_start_frame = np.random.randint(0, last_possible_frame)\n",
    "            sample_signal = signal[random_start_frame: random_start_frame + config.step]\n",
    "\n",
    "            sample_mel = mfcc(sample_signal, sample_rate, numcep=config.nfeat, \n",
    "                              nfilt=config.nfilt, nfft=config.nfft)\n",
    "            X.append(sample_mel)\n",
    "            y.append(label_dict[random_instrument])\n",
    "            \n",
    "    features = normalize(np.array(X))\n",
    "    targets = to_categorical(np.array(y), num_classes=len(label_dict))\n",
    "    return features, targets"
   ]
  },
  {
   "cell_type": "code",
   "execution_count": 14,
   "metadata": {
    "scrolled": true
   },
   "outputs": [
    {
     "name": "stderr",
     "output_type": "stream",
     "text": [
      "100%|██████████| 21840/21840 [00:43<00:00, 506.72it/s]"
     ]
    },
    {
     "name": "stdout",
     "output_type": "stream",
     "text": [
      "CPU times: user 41 s, sys: 2.19 s, total: 43.2 s\n",
      "Wall time: 43.2 s\n"
     ]
    },
    {
     "name": "stderr",
     "output_type": "stream",
     "text": [
      "\n"
     ]
    }
   ],
   "source": [
    "%%time\n",
    "\n",
    "X, y = build_feature_target_matrix(config, label_idx)"
   ]
  },
  {
   "cell_type": "code",
   "execution_count": 15,
   "metadata": {
    "scrolled": false
   },
   "outputs": [
    {
     "name": "stdout",
     "output_type": "stream",
     "text": [
      "(21805, 9, 13)\n",
      "(21805, 10)\n"
     ]
    }
   ],
   "source": [
    "print(X.shape)\n",
    "print(y.shape)"
   ]
  }
 ],
 "metadata": {
  "kernelspec": {
   "display_name": "Python 3",
   "language": "python",
   "name": "python3"
  },
  "language_info": {
   "codemirror_mode": {
    "name": "ipython",
    "version": 3
   },
   "file_extension": ".py",
   "mimetype": "text/x-python",
   "name": "python",
   "nbconvert_exporter": "python",
   "pygments_lexer": "ipython3",
   "version": "3.7.0"
  }
 },
 "nbformat": 4,
 "nbformat_minor": 2
}
